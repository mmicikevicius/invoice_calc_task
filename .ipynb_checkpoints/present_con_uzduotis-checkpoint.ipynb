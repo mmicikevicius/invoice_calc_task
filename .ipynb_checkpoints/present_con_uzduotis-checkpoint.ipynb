{
 "cells": [
  {
   "cell_type": "code",
   "execution_count": 38,
   "metadata": {},
   "outputs": [],
   "source": [
    "import pandas as pd\n",
    "import numpy as np\n",
    "import unittest"
   ]
  },
  {
   "cell_type": "code",
   "execution_count": 39,
   "metadata": {},
   "outputs": [],
   "source": [
    "class InvoiceCalculation(unittest.TestCase):\n",
    "    def __init__(self, amount, service_provider_vat_payer, service_provider_country, customer_vat_payer, customer_country):\n",
    "        self.EU_VAT = {'Belgium':21, 'Bulgaria':20, 'Czech Republic':21, 'Denmark':25, 'Germany':19,\n",
    "          'Estonia':20, 'Ireland':23, 'Greece':24, 'Spain':21, 'France':20, 'Croatia':25,\n",
    "          'Italy':22, 'Cyprus':19, 'Latvia':21, 'Lithuania':21, 'Luxembourg':17, 'Hungary':27,\n",
    "          'Malta':18, 'Netherlands':21, 'Austria':20, 'Poland':23, 'Portugal':23, 'Romania':19,\n",
    "          'Slovenia':22, 'Slovakia':20, 'Finland':24, 'Sweden':25, 'United Kingdom':20}\n",
    "        self.amount_without_vat = amount\n",
    "        self.service_provider_vat_payer = service_provider_vat_payer\n",
    "        self.service_provider_country = service_provider_country\n",
    "        self.customer_vat_payer = customer_vat_payer\n",
    "        self.customer_country = customer_country\n",
    "               \n",
    "    def vat(self):\n",
    "        percent = self.EU_VAT[self.customer_country] / 100\n",
    "        self.vat_amount = percent * self.amount_without_vat\n",
    "        return self.vat_amount\n",
    "    \n",
    "    def invoice_amount(self, vat=0):\n",
    "        self.invoice_amount = self.amount_without_vat + vat\n",
    "        return self.invoice_amount\n",
    "    \n",
    "    def invoice_parameters(self):\n",
    "        if self.service_provider_vat_payer:\n",
    "            if self.customer_country not in self.EU_VAT:\n",
    "                self.invoice_amount = self.amount_without_vat\n",
    "            else:\n",
    "                vat = self.vat()\n",
    "                self.invoice_amount = self.invoice_amount(vat)         \n",
    "        else:\n",
    "            self.invoice_amount = self.amount_without_vat\n",
    "        print(self.invoice_amount)"
   ]
  },
  {
   "cell_type": "code",
   "execution_count": 35,
   "metadata": {},
   "outputs": [],
   "source": [
    "invoice = InvoiceCalculation(100, True, 'Latvia', True, 'Finland')"
   ]
  },
  {
   "cell_type": "code",
   "execution_count": 36,
   "metadata": {},
   "outputs": [
    {
     "name": "stdout",
     "output_type": "stream",
     "text": [
      "124.0\n"
     ]
    }
   ],
   "source": [
    "invoice.invoice_parameters()"
   ]
  }
 ],
 "metadata": {
  "kernelspec": {
   "display_name": "Python 3",
   "language": "python",
   "name": "python3"
  },
  "language_info": {
   "codemirror_mode": {
    "name": "ipython",
    "version": 3
   },
   "file_extension": ".py",
   "mimetype": "text/x-python",
   "name": "python",
   "nbconvert_exporter": "python",
   "pygments_lexer": "ipython3",
   "version": "3.8.5"
  }
 },
 "nbformat": 4,
 "nbformat_minor": 4
}
